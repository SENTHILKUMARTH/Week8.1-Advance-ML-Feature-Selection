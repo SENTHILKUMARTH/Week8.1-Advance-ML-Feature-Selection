{
 "cells": [
  {
   "cell_type": "code",
   "execution_count": 1,
   "id": "321dac5f-b4f4-4323-86fb-bc73bb1de56c",
   "metadata": {},
   "outputs": [],
   "source": [
    "import pandas as pd\n",
    "from sklearn.model_selection import train_test_split \n",
    "import time\n",
    "import numpy as np\n",
    "from sklearn.preprocessing import StandardScaler\n",
    "from sklearn.feature_selection import SelectKBest\n",
    "from sklearn.feature_selection import chi2\n",
    "from sklearn.feature_selection import RFE\n",
    "from sklearn.linear_model import LogisticRegression\n",
    "import pickle\n",
    "import matplotlib.pyplot as plt"
   ]
  },
  {
   "cell_type": "code",
   "execution_count": 2,
   "id": "813600ce-e44d-40fa-a59e-f3e3e8b601a6",
   "metadata": {},
   "outputs": [],
   "source": [
    "def selectkbest(indep_X,dep_Y,n):\n",
    "        test = SelectKBest(score_func=chi2, k=n)\n",
    "        fit1= test.fit(indep_X,dep_Y)\n",
    "        selected_columns = indep_X.columns[fit1.get_support()]\n",
    "        # summarize scores       \n",
    "        selectk_features = fit1.transform(indep_X)\n",
    "        return selectk_features, selected_columns\n",
    "    \n",
    "def split_scalar(indep_X,dep_Y):\n",
    "        X_train, X_test, y_train, y_test = train_test_split(indep_X, dep_Y, test_size = 0.25, random_state = 0)\n",
    "        sc = StandardScaler()\n",
    "        X_train = sc.fit_transform(X_train)\n",
    "        X_test = sc.transform(X_test)    \n",
    "        return X_train, X_test, y_train, y_test\n",
    "    \n",
    "def r2_prediction(regressor,X_test,y_test):\n",
    "     y_pred = regressor.predict(X_test)\n",
    "     from sklearn.metrics import r2_score\n",
    "     r2=r2_score(y_test,y_pred)\n",
    "     return r2\n",
    " \n",
    "def Linear(X_train,y_train,X_test):       \n",
    "        # Fitting K-NN to the Training set\n",
    "        from sklearn.linear_model import LinearRegression\n",
    "        regressor = LinearRegression()\n",
    "        regressor.fit(X_train, y_train)\n",
    "        r2=r2_prediction(regressor,X_test,y_test)\n",
    "        return  r2   \n",
    "    \n",
    "def svm_linear(X_train,y_train,X_test):\n",
    "                \n",
    "        from sklearn.svm import SVR\n",
    "        regressor = SVR(kernel = 'linear')\n",
    "        regressor.fit(X_train, y_train)\n",
    "        r2=r2_prediction(regressor,X_test,y_test)\n",
    "        return  r2  \n",
    "    \n",
    "def svm_NL(X_train,y_train,X_test):\n",
    "                \n",
    "        from sklearn.svm import SVR\n",
    "        regressor = SVR(kernel = 'rbf')\n",
    "        regressor.fit(X_train, y_train)\n",
    "        r2=r2_prediction(regressor,X_test,y_test)\n",
    "        return  r2  \n",
    "     \n",
    "\n",
    "def Decision(X_train,y_train,X_test):\n",
    "        \n",
    "        # Fitting K-NN to the Training setC\n",
    "        from sklearn.tree import DecisionTreeRegressor\n",
    "        regressor = DecisionTreeRegressor(random_state = 0)\n",
    "        regressor.fit(X_train, y_train)\n",
    "        r2=r2_prediction(regressor,X_test,y_test)\n",
    "        return  r2  \n",
    "     \n",
    "\n",
    "def random(X_train,y_train,X_test):       \n",
    "        # Fitting K-NN to the Training set\n",
    "        from sklearn.ensemble import RandomForestRegressor\n",
    "        regressor = RandomForestRegressor(n_estimators = 10, random_state = 0)\n",
    "        regressor.fit(X_train, y_train)\n",
    "        r2=r2_prediction(regressor,X_test,y_test)\n",
    "        return  r2 \n",
    "    \n",
    "    \n",
    "def selectk_regression(acclin,accsvml,accsvmnl,accdes,accrf): \n",
    "    \n",
    "    dataframe=pd.DataFrame(index=['ChiSquare'],columns=['Linear','SVMl','SVMnl','Decision','Random'\n",
    "                                                                                     ])\n",
    "\n",
    "    for number,idex in enumerate(dataframe.index):\n",
    "        dataframe.loc[idex, \"Linear\"] = acclin[number]\n",
    "        dataframe.loc[idex, \"SVMl\"] = accsvml[number]\n",
    "        dataframe.loc[idex, \"SVMnl\"] = accsvmnl[number]\n",
    "        dataframe.loc[idex, \"Decision\"] = accdes[number]\n",
    "        dataframe.loc[idex, \"Random\"] = accrf[number]\n",
    "    return dataframe\n"
   ]
  },
  {
   "cell_type": "code",
   "execution_count": 21,
   "id": "b3b84bbf-28da-4c9f-833b-9cbaf827d1fa",
   "metadata": {},
   "outputs": [],
   "source": [
    "dataset1=pd.read_csv(\"prep.csv\",index_col=None)\n",
    "\n",
    "df2=dataset1\n",
    "\n",
    "df2 = pd.get_dummies(df2, drop_first=True)\n",
    "\n",
    "indep_X=df2.drop('classification_yes', axis = 1)\n",
    "dep_Y=df2['classification_yes']\n",
    "\n",
    "\n",
    "kbest, selected_columns =selectkbest(indep_X,dep_Y,7) \n",
    "kbest_selected_columns = pd.DataFrame(selected_columns)\n",
    "\n",
    "acclin=[]\n",
    "accsvml=[]\n",
    "accsvmnl=[]\n",
    "accdes=[]\n",
    "accrf=[]\n",
    "\n",
    "X_train, X_test, y_train, y_test=split_scalar(kbest,dep_Y)  \n",
    "for i in kbest:   \n",
    "    r2_lin=Linear(X_train,y_train,X_test)\n",
    "    acclin.append(r2_lin)\n",
    "    \n",
    "    r2_sl=svm_linear(X_train,y_train,X_test)    \n",
    "    accsvml.append(r2_sl)\n",
    "    \n",
    "    r2_NL=svm_NL(X_train,y_train,X_test)\n",
    "    accsvmnl.append(r2_NL)\n",
    "    \n",
    "    r2_d=Decision(X_train,y_train,X_test)\n",
    "    accdes.append(r2_d)\n",
    "    \n",
    "    r2_r=random(X_train,y_train,X_test)\n",
    "    accrf.append(r2_r)\n",
    "    \n",
    "    \n",
    "result=selectk_regression(acclin,accsvml,accsvmnl,accdes,accrf)\n"
   ]
  },
  {
   "cell_type": "code",
   "execution_count": 11,
   "id": "3b235c9f-53da-47e4-aace-d22f191990de",
   "metadata": {},
   "outputs": [
    {
     "name": "stdout",
     "output_type": "stream",
     "text": [
      "             Linear      SVMl     SVMnl  Decision    Random\n",
      "ChiSquare  0.304963  0.256858  0.430795  0.479167  0.599392\n",
      "     0\n",
      "0  bgr\n",
      "1   bu\n",
      "2   sc\n",
      "3   wc\n"
     ]
    }
   ],
   "source": [
    "#4\n",
    "print(result)\n",
    "print(kbest_selected_columns)"
   ]
  },
  {
   "cell_type": "code",
   "execution_count": 15,
   "id": "9f8b3909-5386-4e57-b555-8a23159926ad",
   "metadata": {},
   "outputs": [
    {
     "name": "stdout",
     "output_type": "stream",
     "text": [
      "             Linear      SVMl     SVMnl  Decision    Random\n",
      "ChiSquare  0.551985  0.545395  0.749654  0.696181  0.836806\n",
      "     0\n",
      "0  bgr\n",
      "1   bu\n",
      "2   sc\n",
      "3  pcv\n",
      "4   wc\n"
     ]
    }
   ],
   "source": [
    "#5\n",
    "print(result)\n",
    "print(kbest_selected_columns)"
   ]
  },
  {
   "cell_type": "code",
   "execution_count": 19,
   "id": "5660f87d-bbb5-4633-99bd-9c9d7c89c054",
   "metadata": {},
   "outputs": [
    {
     "name": "stdout",
     "output_type": "stream",
     "text": [
      "             Linear      SVMl     SVMnl  Decision    Random\n",
      "ChiSquare  0.599041  0.586446  0.838962  0.869792  0.897569\n",
      "     0\n",
      "0   al\n",
      "1  bgr\n",
      "2   bu\n",
      "3   sc\n",
      "4  pcv\n",
      "5   wc\n"
     ]
    }
   ],
   "source": [
    "#6\n",
    "print(result)\n",
    "print(kbest_selected_columns)"
   ]
  },
  {
   "cell_type": "code",
   "execution_count": 23,
   "id": "efa8223e-abd4-469f-b502-c04ba851e672",
   "metadata": {},
   "outputs": [
    {
     "name": "stdout",
     "output_type": "stream",
     "text": [
      "             Linear      SVMl     SVMnl  Decision    Random\n",
      "ChiSquare  0.657035  0.641906  0.893007  0.826389  0.916233\n",
      "      0\n",
      "0    al\n",
      "1   bgr\n",
      "2    bu\n",
      "3    sc\n",
      "4  hrmo\n",
      "5   pcv\n",
      "6    wc\n"
     ]
    }
   ],
   "source": [
    "#7\n",
    "print(result)\n",
    "print(kbest_selected_columns)"
   ]
  },
  {
   "cell_type": "code",
   "execution_count": null,
   "id": "b5e8ec40-dc9d-4010-86a0-0e3ce323e215",
   "metadata": {},
   "outputs": [],
   "source": []
  }
 ],
 "metadata": {
  "kernelspec": {
   "display_name": "Python 3 (ipykernel)",
   "language": "python",
   "name": "python3"
  },
  "language_info": {
   "codemirror_mode": {
    "name": "ipython",
    "version": 3
   },
   "file_extension": ".py",
   "mimetype": "text/x-python",
   "name": "python",
   "nbconvert_exporter": "python",
   "pygments_lexer": "ipython3",
   "version": "3.12.4"
  }
 },
 "nbformat": 4,
 "nbformat_minor": 5
}
